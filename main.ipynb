{
 "cells": [
  {
   "cell_type": "code",
   "execution_count": 1,
   "id": "9b91c1c3-cf33-4eb7-865b-c13c797f821c",
   "metadata": {},
   "outputs": [],
   "source": [
    "%load_ext autoreload\n",
    "%autoreload 2"
   ]
  },
  {
   "cell_type": "markdown",
   "id": "5148613c-8a06-4735-8f19-b6ea7f7726c1",
   "metadata": {},
   "source": [
    "# Load the Simple Function dataset"
   ]
  },
  {
   "cell_type": "code",
   "execution_count": 2,
   "id": "2c62b67c-692c-492d-9573-6b77995822dc",
   "metadata": {},
   "outputs": [
    {
     "name": "stderr",
     "output_type": "stream",
     "text": [
      "/home/remi/code/LLM/outlines-func-call-gorilla-leaderboard-experiment/.venv/lib/python3.11/site-packages/tqdm/auto.py:21: TqdmWarning: IProgress not found. Please update jupyter and ipywidgets. See https://ipywidgets.readthedocs.io/en/stable/user_install.html\n",
      "  from .autonotebook import tqdm as notebook_tqdm\n"
     ]
    }
   ],
   "source": [
    "from huggingface_hub import hf_hub_download"
   ]
  },
  {
   "cell_type": "code",
   "execution_count": 3,
   "id": "6a73fa95-5583-4ef1-bc0d-0e3c4fa34bb6",
   "metadata": {},
   "outputs": [],
   "source": [
    "file_path = hf_hub_download(\n",
    "    repo_id=\"gorilla-llm/Berkeley-Function-Calling-Leaderboard\",\n",
    "    filename=\"gorilla_openfunctions_v1_test_simple.json\",\n",
    "    repo_type=\"dataset\",\n",
    "    revision=\"9d4f8ce7ec11d4f0e14c820487b14b25ef51dbba\" # this code was created against the version of February, new version was released in March\n",
    ")"
   ]
  },
  {
   "cell_type": "code",
   "execution_count": 4,
   "id": "9bf40100-ed46-4334-aebd-c620d36a9331",
   "metadata": {},
   "outputs": [],
   "source": [
    "import pandas as pd\n",
    "\n",
    "gorilla_func_call_dataset = df = pd.read_json(file_path, lines=True)"
   ]
  },
  {
   "cell_type": "code",
   "execution_count": 5,
   "id": "206bdcb1-bcb1-41d4-b95f-11ab43483074",
   "metadata": {},
   "outputs": [
    {
     "data": {
      "text/html": [
       "<div>\n",
       "<style scoped>\n",
       "    .dataframe tbody tr th:only-of-type {\n",
       "        vertical-align: middle;\n",
       "    }\n",
       "\n",
       "    .dataframe tbody tr th {\n",
       "        vertical-align: top;\n",
       "    }\n",
       "\n",
       "    .dataframe thead th {\n",
       "        text-align: right;\n",
       "    }\n",
       "</style>\n",
       "<table border=\"1\" class=\"dataframe\">\n",
       "  <thead>\n",
       "    <tr style=\"text-align: right;\">\n",
       "      <th></th>\n",
       "      <th>question</th>\n",
       "      <th>function</th>\n",
       "      <th>human_eval_answer</th>\n",
       "    </tr>\n",
       "  </thead>\n",
       "  <tbody>\n",
       "    <tr>\n",
       "      <th>0</th>\n",
       "      <td>Find the area of a triangle with a base of 10 ...</td>\n",
       "      <td>{'name': 'calculate_triangle_area', 'descripti...</td>\n",
       "      <td>calculate_triangle_area(base=10, height=5, uni...</td>\n",
       "    </tr>\n",
       "    <tr>\n",
       "      <th>1</th>\n",
       "      <td>Calculate the factorial of 5 using math functi...</td>\n",
       "      <td>{'name': 'math.factorial', 'description': 'Cal...</td>\n",
       "      <td>math.factorial(number=5)</td>\n",
       "    </tr>\n",
       "    <tr>\n",
       "      <th>2</th>\n",
       "      <td>Calculate the hypotenuse of a right triangle g...</td>\n",
       "      <td>{'name': 'math.hypot', 'description': 'Calcula...</td>\n",
       "      <td>math.hypot(x=4, y=5)</td>\n",
       "    </tr>\n",
       "    <tr>\n",
       "      <th>3</th>\n",
       "      <td>Find the roots of a quadratic equation with co...</td>\n",
       "      <td>{'name': 'algebra.quadratic_roots', 'descripti...</td>\n",
       "      <td>algebra.quadratic_roots(a=1, b=-3, c=2)</td>\n",
       "    </tr>\n",
       "    <tr>\n",
       "      <th>4</th>\n",
       "      <td>Solve a quadratic equation where a=2, b=6, and...</td>\n",
       "      <td>{'name': 'solve_quadratic_equation', 'api_call...</td>\n",
       "      <td>solve_quadratic_equation(a=2, b=6, c=5)</td>\n",
       "    </tr>\n",
       "  </tbody>\n",
       "</table>\n",
       "</div>"
      ],
      "text/plain": [
       "                                            question  \\\n",
       "0  Find the area of a triangle with a base of 10 ...   \n",
       "1  Calculate the factorial of 5 using math functi...   \n",
       "2  Calculate the hypotenuse of a right triangle g...   \n",
       "3  Find the roots of a quadratic equation with co...   \n",
       "4  Solve a quadratic equation where a=2, b=6, and...   \n",
       "\n",
       "                                            function  \\\n",
       "0  {'name': 'calculate_triangle_area', 'descripti...   \n",
       "1  {'name': 'math.factorial', 'description': 'Cal...   \n",
       "2  {'name': 'math.hypot', 'description': 'Calcula...   \n",
       "3  {'name': 'algebra.quadratic_roots', 'descripti...   \n",
       "4  {'name': 'solve_quadratic_equation', 'api_call...   \n",
       "\n",
       "                                   human_eval_answer  \n",
       "0  calculate_triangle_area(base=10, height=5, uni...  \n",
       "1                           math.factorial(number=5)  \n",
       "2                               math.hypot(x=4, y=5)  \n",
       "3            algebra.quadratic_roots(a=1, b=-3, c=2)  \n",
       "4            solve_quadratic_equation(a=2, b=6, c=5)  "
      ]
     },
     "execution_count": 5,
     "metadata": {},
     "output_type": "execute_result"
    }
   ],
   "source": [
    "gorilla_func_call_dataset.head()"
   ]
  },
  {
   "cell_type": "code",
   "execution_count": 6,
   "id": "0a31a37f-b4ab-4285-a8ef-cd56f8db581f",
   "metadata": {},
   "outputs": [],
   "source": [
    "FUNC_CALL_STR = \"human_eval_answer\"\n",
    "JSON_SCHEMA = \"function\""
   ]
  },
  {
   "cell_type": "markdown",
   "id": "d30745bb-21a8-4ff6-bc6c-633b7c8898be",
   "metadata": {},
   "source": [
    "# Parse function calls into dict of args"
   ]
  },
  {
   "cell_type": "markdown",
   "id": "fa05d5e5-c777-4de2-928c-31a4fd062658",
   "metadata": {},
   "source": [
    "First we define a function that attempts to extract a dictionary out of the expected functionc call."
   ]
  },
  {
   "cell_type": "code",
   "execution_count": 7,
   "id": "29bd191d-b428-48ad-b6d5-db9b9777d6fc",
   "metadata": {},
   "outputs": [],
   "source": [
    "import ast\n",
    "\n",
    "\n",
    "def extract_args_from_function_call_string(\n",
    "    function_call_string, expect_only_keyword_args=True\n",
    "):\n",
    "    \"\"\"\n",
    "    Extracts arguments from a function call string and returns them in a dict.\n",
    "\n",
    "    Parameters:\n",
    "    function_call_str (str): The function call string to extract arguments from\n",
    "    expect_only_keyword_args (bool): [default: True]\n",
    "\n",
    "    Returns:\n",
    "    dict: A dictionary containing argument names as keys and their values.\n",
    "    \"\"\"\n",
    "    # Parse the string to an AST node\n",
    "    node = ast.parse(function_call_string, mode=\"eval\")\n",
    "\n",
    "    # Initialize an empty dictionary to store arguments\n",
    "    args_dict = {}\n",
    "\n",
    "    # Assuming the structure is a Call, traverse the arguments\n",
    "    if isinstance(node.body, ast.Call):\n",
    "        for i, arg in enumerate(node.body.args):\n",
    "            if expect_only_keyword_args:\n",
    "                raise ValueError(\n",
    "                    \"Expected only keyword arguments but found positional arguments:\",\n",
    "                    human_eval_str,\n",
    "                )\n",
    "            else:\n",
    "                print(\"[WARNING] this code path has not been tested\")\n",
    "                if isinstance(arg, ast.Constant):\n",
    "                    args_dict[i] = arg.value\n",
    "        for keyword in node.body.keywords:\n",
    "            # Handle keyword arguments\n",
    "            if isinstance(keyword.value, ast.Constant):\n",
    "                args_dict[keyword.arg] = keyword.value.value\n",
    "\n",
    "            elif isinstance(keyword.value, (ast.List, ast.Tuple)):\n",
    "                # Handle lists and tuples\n",
    "                list_values = []\n",
    "                for elem in keyword.value.elts:\n",
    "                    if isinstance(elem, ast.UnaryOp):\n",
    "                        if isinstance(elem.op, ast.USub):\n",
    "                            list_values.append(-elem.operand.value)\n",
    "                        elif isinstance(elem.op, ast.UAdd):\n",
    "                            list_values.append(elem.operand.value)\n",
    "                    elif isinstance(elem, ast.Constant):\n",
    "                        list_values.append(elem.value)\n",
    "                    elif isinstance(elem, ast.Tuple):\n",
    "                        tuple_values = tuple(sub_elem.value for sub_elem in elem.elts)\n",
    "                        list_values.append(tuple_values)\n",
    "                    args_dict[keyword.arg] = list_values\n",
    "\n",
    "            elif isinstance(keyword.value, ast.UnaryOp) and isinstance(\n",
    "                keyword.value.operand, ast.Constant\n",
    "            ):\n",
    "                # Handle negative numbers\n",
    "                args_dict[keyword.arg] = -keyword.value.operand.value\n",
    "            elif isinstance(keyword.value, ast.Dict):\n",
    "                # Handle dictionaries\n",
    "                dict_values = {}\n",
    "                for key, value in zip(keyword.value.keys, keyword.value.values):\n",
    "                    if isinstance(key, ast.Constant) and isinstance(value, ast.List):\n",
    "                        list_values = []\n",
    "                        for elem in value.elts:\n",
    "                            if isinstance(elem, ast.Constant):\n",
    "                                list_values.append(elem.value)\n",
    "                            elif isinstance(elem, ast.UnaryOp):\n",
    "                                if isinstance(elem.op, ast.USub):\n",
    "                                    list_values.append(-elem.operand.value)\n",
    "                                elif isinstance(elem.op, ast.UAdd):\n",
    "                                    list_values.append(elem.operand.value)\n",
    "                        dict_values[key.value] = list_values\n",
    "                    elif isinstance(key, ast.Constant) and isinstance(\n",
    "                        value, ast.Constant\n",
    "                    ):\n",
    "                        dict_values[key.value] = value.value\n",
    "                args_dict[keyword.arg] = dict_values\n",
    "\n",
    "        return args_dict"
   ]
  },
  {
   "cell_type": "markdown",
   "id": "7a53bb60-8cf2-47dd-9d00-54aeef44dc58",
   "metadata": {},
   "source": [
    "## Dateset issues for the \"human_eval_answer\""
   ]
  },
  {
   "cell_type": "markdown",
   "id": "959cae98-68cd-46fb-9211-25df8929a889",
   "metadata": {},
   "source": [
    "`\n",
    "EDIT: There some issues in the dataset, those are the first ones I encountered, there's more down the road1)"
   ]
  },
  {
   "cell_type": "code",
   "execution_count": 8,
   "id": "57bb1851-ba8f-4bff-8974-2f4526bc22db",
   "metadata": {},
   "outputs": [
    {
     "name": "stdout",
     "output_type": "stream",
     "text": [
      "🟢 recovering errors...\n"
     ]
    }
   ],
   "source": [
    "print(\"🟢 recovering errors...\")\n",
    "\n",
    "# original was\n",
    "# calculate_compounded_interest(principal=4999, interest_rate=0.05, period=10\n",
    "# ❌ SyntaxError: '(' was never closed\n",
    "df.loc[145, FUNC_CALL_STR] = (\n",
    "    \"calculate_compounded_interest(principal=5000, interest_rate=0.05, period=10)\"\n",
    ")\n",
    "\n",
    "# original was:\n",
    "# crime_statute_lookup(jurisdiction='California', crime='theft'')^\n",
    "# ❌ SyntaxError: unterminated string literal (detected at line\n",
    "df.loc[161, FUNC_CALL_STR] = (\n",
    "    \"crime_statute_lookup(jurisdiction='California', crime='theft')\"\n",
    ")\n",
    "p   \n",
    "\n",
    "# original was\n",
    "# get_prime_factors(number=450, formatted=true)\n",
    "# ❌ true should be True\n",
    "df.loc[17, FUNC_CALL_STR] = \"get_prime_factors(number=450, formatted=True)\""
   ]
  },
  {
   "cell_type": "markdown",
   "id": "e6645c33-f965-4a3c-8c2b-0ee461db89e4",
   "metadata": {},
   "source": [
    "## Check arg extract works"
   ]
  },
  {
   "cell_type": "code",
   "execution_count": 73,
   "id": "1b58fd9f-8e0d-4ec3-87a9-7f08869ddd54",
   "metadata": {},
   "outputs": [],
   "source": [
    "VERIF = False\n",
    "\n",
    "if VERIF:\n",
    "    for i, row in gorilla_func_call_dataset.iterrows():\n",
    "        func_call_str = row[\"human_eval_answer\"]\n",
    "        print(f\"[INPUT #{i}]\", func_call_str)\n",
    "        print(\" \", func_call_str.split(\"(\", maxsplit=1)[1].replace(\"=\", \" =  \"))\n",
    "        args = extract_args_from_function_call_string(func_call_str)\n",
    "        print(f\"[OUTPUT]\", args)\n",
    "        print(\"\\n\\n\")"
   ]
  },
  {
   "cell_type": "markdown",
   "id": "25c03e4f-d6b3-4018-96da-3bd6e72f4c69",
   "metadata": {},
   "source": [
    "## Checking Correctness of the function schema column"
   ]
  },
  {
   "cell_type": "code",
   "execution_count": 10,
   "id": "fada04ee-f5c3-4003-ba16-9863e25dc383",
   "metadata": {},
   "outputs": [],
   "source": [
    "from pathlib import Path\n",
    "import json\n",
    "\n",
    "tmp = Path(\"/tmp\")\n",
    "\n",
    "json_schema = df.loc[0, \"function\"][\"parameters\"]\n",
    "\n",
    "with open(tmp / \"json_schema.json\", \"w\") as f:\n",
    "    f.write(json.dumps(json_schema))"
   ]
  },
  {
   "cell_type": "markdown",
   "id": "445ad2fe-cf36-4e4a-a9d2-11059f0ce69f",
   "metadata": {},
   "source": [
    "here we use a library to generate pydantic base model class out of the json schema"
   ]
  },
  {
   "cell_type": "code",
   "execution_count": 11,
   "id": "772b6722-79b9-4efc-8ad4-36b43c5a569f",
   "metadata": {},
   "outputs": [],
   "source": [
    "!datamodel-codegen  --input /tmp/json_schema.json --input-file-type jsonschema --output /tmp/model.py"
   ]
  },
  {
   "cell_type": "code",
   "execution_count": 12,
   "id": "405e1b0b-17e8-4c8a-86d8-092c1a3b5653",
   "metadata": {},
   "outputs": [],
   "source": [
    "pydantic_models_dir = Path(\".\").resolve() / \"pydantic_models\"\n",
    "pydantic_models_dir.mkdir(exist_ok=True, parents=True)"
   ]
  },
  {
   "cell_type": "code",
   "execution_count": 13,
   "id": "0878efce-7542-4f45-95fa-3a80c933955a",
   "metadata": {},
   "outputs": [],
   "source": [
    "DONT_RUN = False\n",
    "\n",
    "get_model_file = lambda i: pydantic_models_dir / f\"model_{i}.py\"\n",
    "\n",
    "for i, _ in df.iterrows():\n",
    "    if DONT_RUN:\n",
    "        break\n",
    "    json_schema = df.loc[i, \"function\"][\"parameters\"]\n",
    "    with open(tmp / \"json_schema.json\", \"w\") as f:\n",
    "        f.write(json.dumps(json_schema))\n",
    "    model_file = get_model_file(i)\n",
    "    !datamodel-codegen  --input /tmp/json_schema.json --input-file-type jsonschema --output { model_file }"
   ]
  },
  {
   "cell_type": "code",
   "execution_count": 14,
   "id": "ffa3306a-d9c3-40ed-8e13-ec47f8cc2169",
   "metadata": {},
   "outputs": [],
   "source": [
    "import sys\n",
    "import importlib.util\n",
    "from pathlib import Path\n",
    "\n",
    "\n",
    "def import_model_from_path(file_path: Path):\n",
    "    # Ensure the directory of the file is in sys.path\n",
    "    module_dir = file_path.parent\n",
    "    if str(module_dir) not in sys.path:\n",
    "        sys.path.append(str(module_dir))\n",
    "\n",
    "    # Create a module spec from the file location\n",
    "    spec = importlib.util.spec_from_file_location(file_path.stem, file_path)\n",
    "    if spec is None:\n",
    "        raise ImportError(f\"Could not load spec for module at {file_path}\")\n",
    "\n",
    "    # Load the module from spec\n",
    "    module = importlib.util.module_from_spec(spec)\n",
    "    spec.loader.exec_module(module)\n",
    "\n",
    "    # Access the Model object\n",
    "    if hasattr(module, \"Model\"):\n",
    "        return getattr(module, \"Model\")\n",
    "    else:\n",
    "        raise AttributeError(\n",
    "            f\"Module at {file_path} does not have an object named 'Model'\"\n",
    "        )\n",
    "\n",
    "\n",
    "Model = import_model_from_path(get_model_file(0))"
   ]
  },
  {
   "cell_type": "code",
   "execution_count": 15,
   "id": "0a36fc3f-727b-4972-b8ee-634549104774",
   "metadata": {},
   "outputs": [
    {
     "data": {
      "text/plain": [
       "model_0.Model"
      ]
     },
     "execution_count": 15,
     "metadata": {},
     "output_type": "execute_result"
    }
   ],
   "source": [
    "Model"
   ]
  },
  {
   "cell_type": "code",
   "execution_count": 16,
   "id": "ed11758b-0c7d-4c17-807a-b8df598add99",
   "metadata": {},
   "outputs": [
    {
     "data": {
      "text/plain": [
       "{'base': 10, 'height': 5, 'unit': 'units'}"
      ]
     },
     "execution_count": 16,
     "metadata": {},
     "output_type": "execute_result"
    }
   ],
   "source": [
    "args = extract_args_from_function_call_string(df.iloc[0][FUNC_CALL_STR])\n",
    "args"
   ]
  },
  {
   "cell_type": "code",
   "execution_count": 17,
   "id": "6374b31c-6619-4914-866e-4f9f09d4c43e",
   "metadata": {},
   "outputs": [
    {
     "data": {
      "text/plain": [
       "\"calculate_triangle_area(base=10, height=5, unit='units')\""
      ]
     },
     "execution_count": 17,
     "metadata": {},
     "output_type": "execute_result"
    }
   ],
   "source": [
    "call_string = df.iloc[0][FUNC_CALL_STR]\n",
    "call_string"
   ]
  },
  {
   "cell_type": "code",
   "execution_count": 18,
   "id": "9537ad1f-004a-46a2-b082-d9871a9dbb25",
   "metadata": {},
   "outputs": [
    {
     "data": {
      "text/plain": [
       "{'base': 10, 'height': 5, 'unit': 'units'}"
      ]
     },
     "execution_count": 18,
     "metadata": {},
     "output_type": "execute_result"
    }
   ],
   "source": [
    "extract_args_from_function_call_string(call_string)"
   ]
  },
  {
   "cell_type": "code",
   "execution_count": 19,
   "id": "deae9faf-e2b3-4deb-b09a-4519e52138e9",
   "metadata": {},
   "outputs": [],
   "source": [
    "import json\n",
    "\n",
    "json_args = json.dumps(args)"
   ]
  },
  {
   "cell_type": "code",
   "execution_count": 20,
   "id": "82bf9ee6-77b0-4ede-abf7-400a021be38b",
   "metadata": {},
   "outputs": [
    {
     "data": {
      "text/plain": [
       "Model(base=10.0, height=5.0, unit='units')"
      ]
     },
     "execution_count": 20,
     "metadata": {},
     "output_type": "execute_result"
    }
   ],
   "source": [
    "Model.model_validate_json(json_args)"
   ]
  },
  {
   "cell_type": "code",
   "execution_count": 21,
   "id": "b6711933-1233-44dc-9dc0-994dd933ac6c",
   "metadata": {},
   "outputs": [],
   "source": [
    "df.loc[59, JSON_SCHEMA][\"parameters\"][\"required\"] = [\n",
    "    \"compound\"\n",
    "]  # `to_unit is not required`\n",
    "df.loc[77, FUNC_CALL_STR] = (\n",
    "    \"restaurant.find_nearby(location='Los Angeles, CA', dietary_preference=['Vegan'])\"  # the field is annotated as an array of enum, not an enum\n",
    ")\n",
    "# df.loc[99] is illformed"
   ]
  },
  {
   "cell_type": "code",
   "execution_count": 24,
   "id": "c5dfca0a-ed22-4c47-973e-7a47753be32c",
   "metadata": {},
   "outputs": [],
   "source": [
    "DATASET_ISSUES = [59, 77, 99, 109, 166, 206, 234, 243, 248, 342, 350]\n",
    "N_FIXED = 0\n",
    "ILL_ROWS = {\n",
    "    99: \"reason: requires to execute code before answering the question, hence is not simple func call\",\n",
    "    109: \"reason: requires to have access to a variable defined elsewhere\",\n",
    "    \"others\": \"I got bored. I give up.\",\n",
    "}\n",
    "\n",
    "VERIF2 = False # Set to true to verify the parsing\n",
    "if VERIF2:\n",
    "    for i, row in df.iterrows():\n",
    "        if i in DATASET_ISSUES[N_FIXED:] or i in ILL_ROWS:\n",
    "            continue\n",
    "\n",
    "        model = import_model_from_path(get_model_file(i))\n",
    "        call_string = row[FUNC_CALL_STR]\n",
    "        args = extract_args_from_function_call_string(call_string)\n",
    "        continue\n",
    "        print(i, call_string, args)\n",
    "        print(model(**args))\n",
    "        print()"
   ]
  },
  {
   "cell_type": "markdown",
   "id": "0eb5def0-6de9-47f1-8352-cd81c9f0780f",
   "metadata": {},
   "source": [
    "# Benchmark"
   ]
  },
  {
   "cell_type": "code",
   "execution_count": 23,
   "id": "fd38712f-88e3-4b1a-bd7b-edc2c60458b7",
   "metadata": {},
   "outputs": [
    {
     "name": "stdout",
     "output_type": "stream",
     "text": [
      "The autoreload extension is already loaded. To reload it, use:\n",
      "  %reload_ext autoreload\n"
     ]
    }
   ],
   "source": [
    "%load_ext autoreload\n",
    "%autoreload 2"
   ]
  },
  {
   "cell_type": "code",
   "execution_count": 24,
   "id": "e139c76d-33ec-46ab-9b3d-32d3fd60b1e8",
   "metadata": {},
   "outputs": [],
   "source": [
    "from textwrap import dedent"
   ]
  },
  {
   "cell_type": "code",
   "execution_count": 25,
   "id": "87871887-2c0d-4685-88a2-3ff33c1bf127",
   "metadata": {},
   "outputs": [],
   "source": [
    "import nest_asyncio\n",
    "\n",
    "nest_asyncio.apply()"
   ]
  },
  {
   "cell_type": "markdown",
   "id": "aab8fe0e-11a6-4834-92f1-e72d609fdacb",
   "metadata": {},
   "source": [
    "This requires to have vLLM running (vLLM has an outlines integration)\n",
    "\n",
    "```python\n",
    "python -m vllm.entrypoints.openai.api_server --model TheBloke/Mistral-7B-Instruct-v0.2-AWQ --host 0.0.0.0 --port 8000 --dtype auto --quantization awq --max-model-len 8192 --max-num-seqs 32\n",
    "```"
   ]
  },
  {
   "cell_type": "code",
   "execution_count": 26,
   "id": "bc1aee99-6707-4405-9ef1-8f9aa30519f6",
   "metadata": {},
   "outputs": [],
   "source": [
    "from openai import AsyncOpenAI\n",
    "\n",
    "CONFIG__MODEL = \"TheBloke/Mistral-7B-Instruct-v0.2-AWQ\"\n",
    "CONFIG__VLLM_BASE_URL = \"http://localhost:8000/v1\"\n",
    "CONFIG__API_TOKEN = \"required_yet_unuesed_argument\"\n",
    "\n",
    "client = AsyncOpenAI(base_url=CONFIG__VLLM_BASE_URL, api_key=CONFIG__API_TOKEN)"
   ]
  },
  {
   "cell_type": "code",
   "execution_count": 38,
   "id": "dfcc9aed-7f22-486e-a559-579ab8408cab",
   "metadata": {},
   "outputs": [],
   "source": [
    "get_text = lambda x: x.choices[0].text"
   ]
  },
  {
   "cell_type": "code",
   "execution_count": 27,
   "id": "dce024d3-f76a-4e23-8761-51171b4c8de9",
   "metadata": {},
   "outputs": [],
   "source": [
    "prompt_template = dedent(\n",
    "            \"\"\"\\\n",
    "        <s>[INST]\n",
    "        A user is gonna ask you a question, you need to extract the arguments to be passed to the function that can answer the question.\n",
    "        You must answer the user's question by replying VALID JSON that matches the schema below:\n",
    "        \n",
    "        ```json\n",
    "        {schema}\n",
    "        ```\n",
    "        \n",
    "        ---\n",
    "        \n",
    "        The user's question below\n",
    "        \n",
    "        ```text\n",
    "        {user_query}\n",
    "        ```\n",
    "        \n",
    "        [/INST]\n",
    "        ```json\n",
    "        \"\"\")"
   ]
  },
  {
   "cell_type": "code",
   "execution_count": 31,
   "id": "2e042638-13d8-48f6-865f-c331d44dbf59",
   "metadata": {},
   "outputs": [
    {
     "name": "stdout",
     "output_type": "stream",
     "text": [
      "<s>[INST]\n",
      "A user is gonna ask you a question, you need to extract the arguments to be passed to the function that can answer the question.\n",
      "You must answer the user's question by replying VALID JSON that matches the schema below:\n",
      "\n",
      "```json\n",
      "xxx\n",
      "```\n",
      "\n",
      "---\n",
      "\n",
      "The user's question below\n",
      "\n",
      "```text\n",
      "xxx\n",
      "```\n",
      "\n",
      "[/INST]\n",
      "```json\n",
      "\n"
     ]
    }
   ],
   "source": [
    "print(prompt_template.format(schema=\"xxx\", user_query=\"xxx\"))"
   ]
  },
  {
   "cell_type": "code",
   "execution_count": 43,
   "id": "2c3a4bd8-52bc-45fb-8abe-563fdce9e2ae",
   "metadata": {},
   "outputs": [],
   "source": [
    "# build the dataset\n",
    "DATASET_ISSUES = [59, 77, 99, 109, 166, 206, 234, 243, 248, 342, 350]\n",
    "N_FIXED = 0\n",
    "ILL_ROWS = {\n",
    "    99: \"reason: requires to execute code before answering the question, hence is not simple func call\",\n",
    "    109: \"reason: requires to have access to a variable defined elsewhere\",\n",
    "    \"others\": \"I got bored. I give up.\",\n",
    "}\n",
    "\n",
    "from dataclasses import dataclass\n",
    "from pydantic import BaseModel\n",
    "\n",
    "\n",
    "@dataclass\n",
    "class DatasetEntry:\n",
    "    id: int\n",
    "    question: str\n",
    "    model: BaseModel\n",
    "    json_schema: str\n",
    "    correct: dict\n",
    "\n",
    "\n",
    "dataset = []\n",
    "\n",
    "for i, row in df.iterrows():\n",
    "    if i in DATASET_ISSUES[N_FIXED:] or i in ILL_ROWS:\n",
    "        continue\n",
    "\n",
    "    model = import_model_from_path(get_model_file(i))\n",
    "    call_string = row[FUNC_CALL_STR]\n",
    "    args = extract_args_from_function_call_string(call_string)\n",
    "\n",
    "    dataset.append(\n",
    "        DatasetEntry(\n",
    "            id=i,\n",
    "            question=row[\"question\"],\n",
    "            model=model,\n",
    "            correct=args,\n",
    "            json_schema=row[JSON_SCHEMA][\"parameters\"],\n",
    "        )\n",
    "    )"
   ]
  },
  {
   "cell_type": "code",
   "execution_count": 44,
   "id": "0f2d0390-cad3-406f-86fb-403e3c3a7c24",
   "metadata": {},
   "outputs": [
    {
     "data": {
      "text/plain": [
       "'{\"number\": 5}'"
      ]
     },
     "execution_count": 44,
     "metadata": {},
     "output_type": "execute_result"
    }
   ],
   "source": [
    "print(\"Checking this works.\")\n",
    "\n",
    "res = await client.completions.create(\n",
    "    model=CONFIG__MODEL,\n",
    "    prompt=prompt_template.format(schema=dataset[1].json_schema, user_query=dataset[1].question),\n",
    "    max_tokens=2048,\n",
    "    extra_body={\"guided_json\": dataset[1].json_schema}  # this enables OUTLINES on vLLM' side\n",
    ")\n",
    "\n",
    "get_text(res)"
   ]
  },
  {
   "cell_type": "code",
   "execution_count": 67,
   "id": "de82b890-1e01-475a-96fe-7f04d3a952f3",
   "metadata": {},
   "outputs": [
    {
     "name": "stdout",
     "output_type": "stream",
     "text": [
      "111 crashed the server\n",
      "Internal Server Error\n",
      "\n",
      "81 crashed the server\n",
      "Internal Server Error\n",
      "\n",
      "120 crashed the server\n",
      "Internal Server Error\n",
      "\n",
      "378 crashed the server\n",
      "Internal Server Error\n",
      "\n",
      "328 crashed the server\n",
      "Internal Server Error\n",
      "\n",
      "1 validation error for Model\n",
      "  Invalid JSON: invalid escape at line 3 column 370 [type=json_invalid, input_value='{\"chords\":6\\n   ,\"key\": ... \"                    }', input_type=str]\n",
      "    For further information visit https://errors.pydantic.dev/2.6/v/json_invalid\n",
      "1 validation error for Model\n",
      "  Invalid JSON: EOF while parsing a string at line 3 column 2050 [type=json_invalid, input_value='{\\n  \"end_location\": \"Me..., , , , , , , , , , , ,', input_type=str]\n",
      "    For further information visit https://errors.pydantic.dev/2.6/v/json_invalid\n",
      "1 validation error for Model\n",
      "  Invalid JSON: EOF while parsing an object at line 3 column 1014 [type=json_invalid, input_value='{\\n  \"species\": \"Homo Sa...11111111111111111111111', input_type=str]\n",
      "    For further information visit https://errors.pydantic.dev/2.6/v/json_invalid\n",
      "381\n",
      "3\n",
      "230\n"
     ]
    }
   ],
   "source": [
    "from pydantic import ValidationError\n",
    "from openai import InternalServerError\n",
    "import asyncio\n",
    "\n",
    "valid = []\n",
    "correct = []\n",
    "invalid = []\n",
    "\n",
    "\n",
    "async def benchmark_one_row(i):\n",
    "    try:\n",
    "        res = await client.completions.create(\n",
    "            model=CONFIG__MODEL,\n",
    "            prompt=prompt_template.format(\n",
    "                schema=dataset[i].json_schema, user_query=dataset[i].question\n",
    "            ),\n",
    "            max_tokens=1024,\n",
    "            extra_body={\"guided_json\": dataset[i].json_schema},\n",
    "        )\n",
    "    except InternalServerError as e:\n",
    "        print(i, \"crashed the server\")\n",
    "        print(e)\n",
    "        print()\n",
    "        return\n",
    "    else:\n",
    "        try:\n",
    "            pred = dataset[i].model.model_validate_json(get_text(res))\n",
    "            valid.append(i)\n",
    "            if pred == dataset[i].model(**dataset[i].correct):\n",
    "                correct.append(i)\n",
    "        except ValidationError as e:\n",
    "            print(e)\n",
    "            invalid.append(i)\n",
    "    \n",
    "\n",
    "benchmark = (benchmark_one_row(i) for i in range(len(dataset)))\n",
    "\n",
    "results = await asyncio.gather(*benchmark)\n",
    "\n",
    "print(len(valid))\n",
    "print(len(invalid))\n",
    "print(len(correct))"
   ]
  },
  {
   "cell_type": "code",
   "execution_count": 68,
   "id": "dfd9630b-84ce-4f5b-94b0-7a59ce5e7fff",
   "metadata": {},
   "outputs": [
    {
     "name": "stdout",
     "output_type": "stream",
     "text": [
      "381\n",
      "3\n",
      "230\n"
     ]
    }
   ],
   "source": [
    "print(len(valid))\n",
    "print(len(invalid))\n",
    "print(len(correct))"
   ]
  },
  {
   "cell_type": "code",
   "execution_count": 69,
   "id": "5189c57f-623e-4988-b985-f0a94c0aef91",
   "metadata": {},
   "outputs": [],
   "source": [
    "INVALID_JSON_SCHEMA = {81, 111, 120, 328, 378}  # crashes the server"
   ]
  },
  {
   "cell_type": "code",
   "execution_count": 70,
   "id": "16956927-fbe4-42eb-a08a-61522343c462",
   "metadata": {},
   "outputs": [],
   "source": [
    "len_dataset = len(dataset) - len(INVALID_JSON_SCHEMA)"
   ]
  },
  {
   "cell_type": "code",
   "execution_count": 71,
   "id": "7b0cb9eb-b6ad-47f1-bade-6cec93dd0a3a",
   "metadata": {},
   "outputs": [],
   "source": [
    "accuracy = len(correct) / len_dataset"
   ]
  },
  {
   "cell_type": "code",
   "execution_count": 72,
   "id": "04a3e153-283c-447e-87fb-6b671bb279b2",
   "metadata": {},
   "outputs": [
    {
     "name": "stdout",
     "output_type": "stream",
     "text": [
      "0.5989583333333334\n"
     ]
    }
   ],
   "source": [
    "print(accuracy)"
   ]
  },
  {
   "attachments": {
    "16875efa-d417-4db4-8eb8-78043407b35a.png": {
     "image/png": "[encoded data removed]"
    }
   },
   "cell_type": "markdown",
   "id": "18a909dc-cfaa-405b-9d14-bce52c9d6dd7",
   "metadata": {},
   "source": [
    "# first impression:\n",
    "\n",
    "woh 60% accuracy without even trying hard is good:\n",
    "\n",
    "![image.png](attachment:16875efa-d417-4db4-8eb8-78043407b35a.png)\n",
    "\n",
    "https://gorilla.cs.berkeley.edu/leaderboard.html (click on expand table, sort by AST.Simple (the category of the dataset we are in)) \n",
    "\n",
    "This would mean; that outlines + mistral 7b gets a better score than all those and arrive just below DBRX (prompt, no fc)\n",
    "And beats FC  (function calling) version of old version of GPT4,  GPT3.5 and Glaive, which is rather impressive for a 7b model, isn't it?"
   ]
  },
  {
   "cell_type": "code",
   "execution_count": null,
   "id": "c3a8452a-4c1d-44d7-8bc1-0dc0f63049e4",
   "metadata": {},
   "outputs": [],
   "source": []
  },
  {
   "cell_type": "code",
   "execution_count": null,
   "id": "84e36c89-f4f7-48cd-bf62-888d4e909993",
   "metadata": {},
   "outputs": [],
   "source": []
  }
 ],
 "metadata": {
  "kernelspec": {
   "display_name": "outlines-gorilla",
   "language": "python",
   "name": "outlines-gorilla"
  },
  "language_info": {
   "codemirror_mode": {
    "name": "ipython",
    "version": 3
   },
   "file_extension": ".py",
   "mimetype": "text/x-python",
   "name": "python",
   "nbconvert_exporter": "python",
   "pygments_lexer": "ipython3",
   "version": "3.11.5"
  }
 },
 "nbformat": 4,
 "nbformat_minor": 5
}
